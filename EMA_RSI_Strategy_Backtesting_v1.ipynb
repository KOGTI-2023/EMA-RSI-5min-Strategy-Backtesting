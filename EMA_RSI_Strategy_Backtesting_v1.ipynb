{
  "cells": [
    {
      "cell_type": "markdown",
      "metadata": {
        "id": "view-in-github",
        "colab_type": "text"
      },
      "source": [
        "<a href=\"https://colab.research.google.com/github/KOGTI-2023/Trading/blob/main/EMA_RSI_Strategy_Backtesting_v1.ipynb\" target=\"_parent\"><img src=\"https://colab.research.google.com/assets/colab-badge.svg\" alt=\"Open In Colab\"/></a>"
      ]
    },
    {
      "cell_type": "markdown",
      "metadata": {
        "id": "bzpAUFrqTpR6"
      },
      "source": [
        "### 1 - Import test data"
      ]
    },
    {
      "cell_type": "code",
      "source": [
        "!pip install pandas"
      ],
      "metadata": {
        "id": "F7YrMtQrP3Bh"
      },
      "execution_count": null,
      "outputs": []
    },
    {
      "cell_type": "code",
      "source": [
        "!pip install plotly"
      ],
      "metadata": {
        "id": "-2TpdT9JSUbl"
      },
      "execution_count": null,
      "outputs": []
    },
    {
      "cell_type": "code",
      "source": [
        "!pip install datetime"
      ],
      "metadata": {
        "id": "PFturWmXSEph"
      },
      "execution_count": null,
      "outputs": []
    },
    {
      "cell_type": "code",
      "source": [
        "!pip install numpy"
      ],
      "metadata": {
        "id": "aQzwGd_MRY2-"
      },
      "execution_count": null,
      "outputs": []
    },
    {
      "cell_type": "code",
      "source": [
        "!pip install backtesting"
      ],
      "metadata": {
        "id": "KZNsTUgvP4W-"
      },
      "execution_count": null,
      "outputs": []
    },
    {
      "cell_type": "code",
      "execution_count": null,
      "metadata": {
        "id": "IbtbxHqqTpR8"
      },
      "outputs": [],
      "source": [
        "import pandas as pd\n",
        "import pandas_ta as ta\n",
        "\n",
        "df = pd.read_csv(\"sample_data/EURUSD_Candlestick_5_M_ASK_30.09.2019-30.09.2022.csv\")\n",
        "df[\"Gmt time\"]=df[\"Gmt time\"].str.replace(\".000\",\"\")\n",
        "df['Gmt time']=pd.to_datetime(df['Gmt time'],format='%d.%m.%Y %H:%M:%S')\n",
        "df=df[df.High!=df.Low]\n",
        "df.set_index(\"Gmt time\", inplace=True)"
      ]
    },
    {
      "cell_type": "code",
      "execution_count": null,
      "metadata": {
        "id": "Y05l33_KTpR9"
      },
      "outputs": [],
      "source": [
        "df[\"EMA_slow\"]=ta.ema(df.Close, length=100)\n",
        "df[\"EMA_fast\"]=ta.ema(df.Close, length=25)\n",
        "df['RSI']=ta.rsi(df.Close, length=14)\n",
        "my_bbands = ta.bbands(df.Close, length=20, std=1.4)\n",
        "df['ATR']=ta.atr(df.High, df.Low, df.Close, length=7)\n",
        "df=df.join(my_bbands)\n",
        "df"
      ]
    },
    {
      "cell_type": "code",
      "execution_count": null,
      "metadata": {
        "id": "Uw_3tq-uTpR9"
      },
      "outputs": [],
      "source": [
        "def ema_signal(df, current_candle, backcandles):\n",
        "    df_slice = df.reset_index().copy()\n",
        "    # Get the range of candles to consider\n",
        "    start = max(0, current_candle - backcandles)\n",
        "    end = current_candle\n",
        "    relevant_rows = df_slice.iloc[start:end]\n",
        "\n",
        "    # Check if all EMA_fast values are below EMA_slow values\n",
        "    if all(relevant_rows[\"EMA_fast\"] < relevant_rows[\"EMA_slow\"]):\n",
        "        return 1\n",
        "    elif all(relevant_rows[\"EMA_fast\"] > relevant_rows[\"EMA_slow\"]):\n",
        "        return 2\n",
        "    else:\n",
        "        return 0\n",
        "\n",
        "\n",
        "df=df[-10000:-1]\n",
        "from tqdm import tqdm\n",
        "tqdm.pandas()\n",
        "df.reset_index(inplace=True)\n",
        "df['EMASignal'] = df.progress_apply(lambda row: ema_signal(df, row.name, 7) , axis=1) #if row.name >= 20 else 0"
      ]
    },
    {
      "cell_type": "code",
      "execution_count": null,
      "metadata": {
        "id": "EwtPIG1HTpR-"
      },
      "outputs": [],
      "source": [
        "def total_signal(df, current_candle, backcandles):\n",
        "    if (ema_signal(df, current_candle, backcandles)==2\n",
        "        and df.Close[current_candle]<=df['BBL_20_1.4'][current_candle]\n",
        "        #and df.RSI[current_candle]<60\n",
        "        ):\n",
        "            return 2\n",
        "    if (ema_signal(df, current_candle, backcandles)==1\n",
        "        and df.Close[current_candle]>=df['BBU_20_1.4'][current_candle]\n",
        "        #and df.RSI[current_candle]>40\n",
        "        ):\n",
        "\n",
        "            return 1\n",
        "    return 0\n",
        "\n",
        "df['TotalSignal'] = df.progress_apply(lambda row: total_signal(df, row.name, 7), axis=1)"
      ]
    },
    {
      "cell_type": "code",
      "execution_count": null,
      "metadata": {
        "id": "v00IAGrKTpR-"
      },
      "outputs": [],
      "source": [
        "df[df.TotalSignal != 0].head(20)"
      ]
    },
    {
      "cell_type": "code",
      "execution_count": null,
      "metadata": {
        "id": "PbDed9NsTpR-"
      },
      "outputs": [],
      "source": [
        "import numpy as np\n",
        "def pointpos(x):\n",
        "    if x['TotalSignal']==2:\n",
        "        return x['Low']-1e-3\n",
        "    elif x['TotalSignal']==1:\n",
        "        return x['High']+1e-3\n",
        "    else:\n",
        "        return np.nan\n",
        "\n",
        "df['pointpos'] = df.apply(lambda row: pointpos(row), axis=1)"
      ]
    },
    {
      "cell_type": "code",
      "execution_count": null,
      "metadata": {
        "id": "si8Dua9tTpR_"
      },
      "outputs": [],
      "source": [
        "import plotly.graph_objects as go\n",
        "from plotly.subplots import make_subplots\n",
        "from datetime import datetime\n",
        "st=100\n",
        "dfpl = df[st:st+350]\n",
        "#dfpl.reset_index(inplace=True)\n",
        "fig = go.Figure(data=[go.Candlestick(x=dfpl.index,\n",
        "                open=dfpl['Open'],\n",
        "                high=dfpl['High'],\n",
        "                low=dfpl['Low'],\n",
        "                close=dfpl['Close']),\n",
        "\n",
        "                go.Scatter(x=dfpl.index, y=dfpl['BBL_20_1.4'],\n",
        "                           line=dict(color='green', width=1),\n",
        "                           name=\"BBL\"),\n",
        "                go.Scatter(x=dfpl.index, y=dfpl['BBU_20_1.4'],\n",
        "                           line=dict(color='green', width=1),\n",
        "                           name=\"BBU\"),\n",
        "                go.Scatter(x=dfpl.index, y=dfpl['EMA_fast'],\n",
        "                           line=dict(color='black', width=1),\n",
        "                           name=\"EMA_fast\"),\n",
        "                go.Scatter(x=dfpl.index, y=dfpl['EMA_slow'],\n",
        "                           line=dict(color='blue', width=1),\n",
        "                           name=\"EMA_slow\")])\n",
        "\n",
        "fig.add_scatter(x=dfpl.index, y=dfpl['pointpos'], mode=\"markers\",\n",
        "                marker=dict(size=5, color=\"MediumPurple\"),\n",
        "                name=\"entry\")\n",
        "\n",
        "fig.show()"
      ]
    },
    {
      "cell_type": "code",
      "execution_count": null,
      "metadata": {
        "id": "KoFPZjFpTpR_"
      },
      "outputs": [],
      "source": [
        "def SIGNAL():\n",
        "    return df.TotalSignal"
      ]
    },
    {
      "cell_type": "code",
      "execution_count": null,
      "metadata": {
        "id": "2dQjClHjTpR_"
      },
      "outputs": [],
      "source": [
        "from backtesting import Strategy\n",
        "from backtesting import Backtest\n",
        "\n",
        "class MyStrat(Strategy):\n",
        "    mysize = 3000\n",
        "    slcoef = 1.2\n",
        "    TPSLRatio = 1.5\n",
        "    rsi_length = 8\n",
        "\n",
        "    def init(self):\n",
        "        super().init()\n",
        "        self.signal1 = self.I(SIGNAL)\n",
        "        #df['RSI']=ta.rsi(df.Close, length=self.rsi_length)\n",
        "\n",
        "    def next(self):\n",
        "        super().next()\n",
        "        slatr = self.slcoef*self.data.ATR[-1]\n",
        "        TPSLRatio = self.TPSLRatio\n",
        "\n",
        "        # if len(self.trades)>0:\n",
        "        #     if self.trades[-1].is_long and self.data.RSI[-1]>=90:\n",
        "        #         self.trades[-1].close()\n",
        "        #     elif self.trades[-1].is_short and self.data.RSI[-1]<=10:\n",
        "        #         self.trades[-1].close()\n",
        "\n",
        "        if self.signal1==2 and len(self.trades)==0:\n",
        "            sl1 = self.data.Close[-1] - slatr\n",
        "            tp1 = self.data.Close[-1] + slatr*TPSLRatio\n",
        "            self.buy(sl=sl1, tp=tp1, size=self.mysize)\n",
        "\n",
        "        elif self.signal1==1 and len(self.trades)==0:\n",
        "            sl1 = self.data.Close[-1] + slatr\n",
        "            tp1 = self.data.Close[-1] - slatr*TPSLRatio\n",
        "            self.sell(sl=sl1, tp=tp1, size=self.mysize)\n",
        "\n",
        "bt = Backtest(df, MyStrat, cash=100, margin=1/30)"
      ]
    },
    {
      "cell_type": "code",
      "execution_count": null,
      "metadata": {
        "id": "eT_hs4TYTpR_"
      },
      "outputs": [],
      "source": [
        "bt.run()"
      ]
    },
    {
      "cell_type": "code",
      "execution_count": null,
      "metadata": {
        "id": "KBcNIbM7TpSA"
      },
      "outputs": [],
      "source": [
        "bt.plot()"
      ]
    }
  ],
  "metadata": {
    "kernelspec": {
      "display_name": "Python 3.10.8 64-bit",
      "language": "python",
      "name": "python3"
    },
    "language_info": {
      "codemirror_mode": {
        "name": "ipython",
        "version": 3
      },
      "file_extension": ".py",
      "mimetype": "text/x-python",
      "name": "python",
      "nbconvert_exporter": "python",
      "pygments_lexer": "ipython3",
      "version": "3.11.4"
    },
    "vscode": {
      "interpreter": {
        "hash": "c0ff92a541b5eb8a0f75470c34280cf0dea79e8b819847822bd36e33345fddf3"
      }
    },
    "colab": {
      "provenance": [],
      "include_colab_link": true
    }
  },
  "nbformat": 4,
  "nbformat_minor": 0
}